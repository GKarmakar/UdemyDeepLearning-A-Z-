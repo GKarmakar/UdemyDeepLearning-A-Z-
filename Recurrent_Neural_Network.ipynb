{
 "cells": [
  {
   "cell_type": "code",
   "execution_count": null,
   "metadata": {
    "collapsed": true
   },
   "outputs": [],
   "source": [
    "import numpy as np\n",
    "import matplotlib.pyplot as plt\n",
    "import pandas as pd"
   ]
  },
  {
   "cell_type": "code",
   "execution_count": null,
   "metadata": {
    "collapsed": false
   },
   "outputs": [],
   "source": [
    "#Importing training data\n",
    "\n",
    "train_set = pd.read_csv(\"./data/Google_Stock_Price_Train.csv\")\n",
    "train_set = train_set.iloc[:, 1:2].values"
   ]
  },
  {
   "cell_type": "code",
   "execution_count": null,
   "metadata": {
    "collapsed": true
   },
   "outputs": [],
   "source": [
    "#Feature Scaling\n",
    "from sklearn.preprocessing import MinMaxScaler\n",
    "sc = MinMaxScaler()\n",
    "train_set = sc.fit_transform(train_set)"
   ]
  },
  {
   "cell_type": "code",
   "execution_count": null,
   "metadata": {
    "collapsed": true
   },
   "outputs": [],
   "source": [
    "#Get input and output\n",
    "X_train = train_set[0:1257] #All the stock prices except the last one\n",
    "y_train = train_set[1:1258]\n",
    "\n",
    "#Reshaping needed to convert it to 3-D shape to be used by Keras modules\n",
    "X_train = np.reshape(X_train, (X_train.shape[0], X_train.shape[1], 1))"
   ]
  },
  {
   "cell_type": "code",
   "execution_count": null,
   "metadata": {
    "collapsed": false
   },
   "outputs": [],
   "source": [
    "X_train.shape"
   ]
  },
  {
   "cell_type": "code",
   "execution_count": null,
   "metadata": {
    "collapsed": false
   },
   "outputs": [],
   "source": [
    "#Import keras packages\n",
    "\n",
    "from keras.models import Sequential\n",
    "from keras.layers import Dense\n",
    "from keras.layers import LSTM\n",
    "\n",
    "from keras import backend as K\n",
    "K.set_image_dim_ordering('tf')"
   ]
  },
  {
   "cell_type": "code",
   "execution_count": null,
   "metadata": {
    "collapsed": false
   },
   "outputs": [],
   "source": [
    "#Initializing RNN\n",
    "regressor = Sequential()\n",
    "regressor.add(LSTM(4, activation = 'sigmoid', input_shape = (None, 1)))\n",
    "regressor.add(Dense(1))\n",
    "regressor.compile(optimizer = 'adam', loss = 'mean_squared_error', metrics=['accuracy'])"
   ]
  },
  {
   "cell_type": "code",
   "execution_count": null,
   "metadata": {
    "collapsed": false
   },
   "outputs": [],
   "source": [
    "regressor.fit(X_train, y_train, batch_size=32, nb_epoch = 200)"
   ]
  },
  {
   "cell_type": "code",
   "execution_count": null,
   "metadata": {
    "collapsed": false
   },
   "outputs": [],
   "source": [
    "test_set = pd.read_csv(\"./data/Google_Stock_Price_Test.csv\")\n",
    "real_stock_price = test_set.iloc[:, 1:2].values"
   ]
  },
  {
   "cell_type": "code",
   "execution_count": null,
   "metadata": {
    "collapsed": false
   },
   "outputs": [],
   "source": [
    "#Predict google stock price of Jan, 2017\n",
    "inputs = real_stock_price\n",
    "\n",
    "inputs = sc.transform(inputs)\n",
    "\n",
    "inputs = np.reshape(inputs, (inputs.shape[0], inputs.shape[1], 1))\n",
    "inputs.shape"
   ]
  },
  {
   "cell_type": "code",
   "execution_count": null,
   "metadata": {
    "collapsed": false
   },
   "outputs": [],
   "source": [
    "predicted_stock_price = regressor.predict(inputs)\n",
    "print(predicted_stock_price)"
   ]
  },
  {
   "cell_type": "code",
   "execution_count": null,
   "metadata": {
    "collapsed": false
   },
   "outputs": [],
   "source": [
    "#Reverse scale to get an actual value\n",
    "predicted_stock_price = sc.inverse_transform(predicted_stock_price)"
   ]
  },
  {
   "cell_type": "code",
   "execution_count": null,
   "metadata": {
    "collapsed": false
   },
   "outputs": [],
   "source": [
    "plt.plot(real_stock_price, color = 'red', label = 'red is real google stock price')\n",
    "plt.plot(predicted_stock_price, color='blue', label = 'blue corresponds to predicted stock price')\n",
    "plt.title(\"Google stock price prediction\")\n",
    "plt.xlabel(\"Time\")\n",
    "plt.ylabel(\"Google's stock price\")\n",
    "plt.legend()\n",
    "plt.show()"
   ]
  },
  {
   "cell_type": "code",
   "execution_count": null,
   "metadata": {
    "collapsed": false
   },
   "outputs": [],
   "source": [
    "#Getting the real stock price of 2012 - 2016\n",
    "real_stock_price_train = pd.read_csv(\"./data/Google_Stock_Price_Train.csv\")\n",
    "real_stock_price_train = real_stock_price_train.iloc[:, 1:2].values\n",
    "#Getting the predicted stock prices of 2012 - 2016\n",
    "predicted_stock_price_train = regressor.predict(X_train)\n",
    "predicted_stock_price_train = sc.inverse_transform(predicted_stock_price_train)"
   ]
  },
  {
   "cell_type": "code",
   "execution_count": null,
   "metadata": {
    "collapsed": false
   },
   "outputs": [],
   "source": [
    "plt.plot(real_stock_price_train, color = 'red', label = 'red is real google stock price')\n",
    "plt.plot(predicted_stock_price_train, color='blue', label = 'blue corresponds to predicted stock price')\n",
    "plt.title(\"Google stock price prediction\")\n",
    "plt.xlabel(\"Time\")\n",
    "plt.ylabel(\"Google's stock price\")\n",
    "plt.legend()\n",
    "plt.show()"
   ]
  },
  {
   "cell_type": "code",
   "execution_count": null,
   "metadata": {
    "collapsed": true
   },
   "outputs": [],
   "source": [
    "#evaluating the RNN\n",
    "import math\n",
    "from sklearn.metrics import mean_squared_error \n",
    "rmse = math.sqrt(mean_squared_error(real_stock_price, predicted_stock_price))"
   ]
  },
  {
   "cell_type": "code",
   "execution_count": null,
   "metadata": {
    "collapsed": false
   },
   "outputs": [],
   "source": [
    "print rmse"
   ]
  },
  {
   "cell_type": "code",
   "execution_count": null,
   "metadata": {
    "collapsed": true
   },
   "outputs": [],
   "source": [
    "def build_regressor(optimizer):\n",
    "    regressor = Sequential()\n",
    "    regressor.add(LSTM(4, activation = 'sigmoid', input_shape = (None, 1)))\n",
    "    regressor.add(Dense(1))\n",
    "    regressor.compile(optimizer = optimizer, loss = 'mean_squared_error', metrics=['accuracy'])\n",
    "    return regressor"
   ]
  },
  {
   "cell_type": "code",
   "execution_count": null,
   "metadata": {
    "collapsed": false
   },
   "outputs": [],
   "source": [
    "#Adding K-Fold validation to improve accuracy\n",
    "from keras.wrappers.scikit_learn import KerasRegressor\n",
    "regressor = KerasRegressor(build_fn = build_regressor)"
   ]
  },
  {
   "cell_type": "code",
   "execution_count": null,
   "metadata": {
    "collapsed": false
   },
   "outputs": [],
   "source": [
    "#Homework - create 4 RNN model with different timesteps, use parameter tuning , train and visualize result\n",
    "from sklearn.model_selection import GridSearchCV\n",
    "parameters = {'batch_size': [32, 64], \n",
    "              'nb_epoch': [50, 100],\n",
    "              'optimizer': ['adam', 'rmsprop']}\n",
    "grid_search = GridSearchCV(estimator = regressor, \n",
    "                           param_grid = parameters,\n",
    "                           scoring = 'neg_mean_absolute_error',\n",
    "                           cv = 10)"
   ]
  },
  {
   "cell_type": "code",
   "execution_count": null,
   "metadata": {
    "collapsed": false
   },
   "outputs": [],
   "source": [
    "#Fit the model using Gridsearch\n",
    "grid_search.fit(X_train, y_train)"
   ]
  },
  {
   "cell_type": "code",
   "execution_count": null,
   "metadata": {
    "collapsed": false
   },
   "outputs": [],
   "source": [
    "best_parameters = grid_search.best_params_\n",
    "best_accuracy = grid_search.best_score_"
   ]
  },
  {
   "cell_type": "code",
   "execution_count": null,
   "metadata": {
    "collapsed": false
   },
   "outputs": [],
   "source": [
    "#Importing training data\n",
    "\n",
    "train_set = pd.read_csv(\"./data/Google_Stock_Price_Train.csv\")\n",
    "train_set = train_set.iloc[:, 1:2].values"
   ]
  },
  {
   "cell_type": "code",
   "execution_count": null,
   "metadata": {
    "collapsed": false
   },
   "outputs": [],
   "source": [
    "from sklearn.preprocessing import MinMaxScaler\n",
    "sc = MinMaxScaler(feature_range = (0, 1))\n",
    "train_set_scaled = sc.fit_transform(train_set)\n",
    "#Create data structure with 60 time steps and t+1 output\n",
    "X_train = []\n",
    "y_train = []\n",
    "for i in range(60, 158):\n",
    "    X_train.append(train_set_scaled[i-60:i, 0])\n",
    "    y_train.append(train_set_scaled[i, 0])\n",
    "\n",
    "X_train = np.array(X_train)\n",
    "y_train = np.array(y_train)\n",
    "X_train = np.reshape(X_train, (X_train.shape[0], X_train.shape[1], 1))"
   ]
  },
  {
   "cell_type": "code",
   "execution_count": null,
   "metadata": {
    "collapsed": true
   },
   "outputs": [],
   "source": [
    "#Build Keras model and fit it\n",
    "RNNRegressor = Sequential()\n",
    "RNNRegressor.add(LSTM(units = 3, return_sequences = True, input_shape = (None , 1)))\n",
    "RNNRegressor.add(LSTM(units = 3, return_sequences = True))\n",
    "RNNRegressor.add(LSTM(units = 3, return_sequences = True))\n",
    "RNNRegressor.add(LSTM(units = 3))\n",
    "RNNRegressor.add(Dense(units = 1))\n",
    "RNNRegressor.compile(optimizer = 'adam', loss = 'mean_squared_error')\n",
    "RNNRegressor.fit(X_train, y_train, epochs = 100, batch_size = 32)"
   ]
  },
  {
   "cell_type": "code",
   "execution_count": null,
   "metadata": {
    "collapsed": true
   },
   "outputs": [],
   "source": [
    "#Making the prediction and visualize the result\n",
    "\n",
    "#Getting the real stock data\n",
    "test_set = pd.read_csv(\"./data/Google_Stock_Price_Test.csv\")\n",
    "test_set = test_set.iloc([:, 1:2]).values\n",
    "real_stock_price = np.concatenate((train_set[0:1258], test_set), axis = 0)\n",
    "\n",
    "#getting predicted stock price of 2017\n",
    "scaled_real_stock_price = sc.fit_transform(real_stock_price)\n",
    "inputs = []\n",
    "for i in range(1258, 1278):\n",
    "    inputs.append(scaled_real_stock_price[i-60:i, 0])\n",
    "inputs = np.array(inputs)\n",
    "np.reshape(inputs, (inputs.shape[0], inputs_shape[1], 1))\n",
    "predicted_stcok_price = RNNRegressor.predict(inputs)\n",
    "predicted_stock_price = sc.inverse_transform(predicted_stock_price)"
   ]
  },
  {
   "cell_type": "code",
   "execution_count": null,
   "metadata": {
    "collapsed": true
   },
   "outputs": [],
   "source": [
    "#Plot the result\n",
    "plt.plot(real_stock_price[1258:], color = 'red', label='Real Google Stock Price')\n",
    "plt.plot(predicted_stock_price, color='blue', label=\"Predicted Google Stock Price\")\n",
    "plt.title('Google Stock Price Prediction')\n",
    "plt.xlabel(\"Time\")\n",
    "plt.ylabel(\"Stock Price\")\n",
    "plt.legend()\n",
    "plt.show()"
   ]
  }
 ],
 "metadata": {
  "anaconda-cloud": {},
  "kernelspec": {
   "display_name": "Python [conda root]",
   "language": "python",
   "name": "conda-root-py"
  },
  "language_info": {
   "codemirror_mode": {
    "name": "ipython",
    "version": 2
   },
   "file_extension": ".py",
   "mimetype": "text/x-python",
   "name": "python",
   "nbconvert_exporter": "python",
   "pygments_lexer": "ipython2",
   "version": "2.7.12"
  }
 },
 "nbformat": 4,
 "nbformat_minor": 2
}
